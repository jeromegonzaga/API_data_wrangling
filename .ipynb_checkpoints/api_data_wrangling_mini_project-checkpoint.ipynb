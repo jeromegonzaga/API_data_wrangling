{
 "cells": [
  {
   "cell_type": "markdown",
   "metadata": {},
   "source": [
    "This exercise will require you to pull some data from the Qunadl API. Qaundl is currently the most widely used aggregator of financial market data."
   ]
  },
  {
   "cell_type": "markdown",
   "metadata": {},
   "source": [
    "As a first step, you will need to register a free account on the http://www.quandl.com website."
   ]
  },
  {
   "cell_type": "markdown",
   "metadata": {},
   "source": [
    "After you register, you will be provided with a unique API key, that you should store:"
   ]
  },
  {
   "cell_type": "code",
   "execution_count": 1,
   "metadata": {},
   "outputs": [],
   "source": [
    "# Store the API key as a string - according to PEP8, constants are always named in all upper case\n",
    "API_KEY = '' # personal API key removed for security"
   ]
  },
  {
   "cell_type": "markdown",
   "metadata": {},
   "source": [
    "Qaundl has a large number of data sources, but, unfortunately, most of them require a Premium subscription. Still, there are also a good number of free datasets."
   ]
  },
  {
   "cell_type": "markdown",
   "metadata": {},
   "source": [
    "For this mini project, we will focus on equities data from the Frankfurt Stock Exhange (FSE), which is available for free. We'll try and analyze the stock prices of a company called Carl Zeiss Meditec, which manufactures tools for eye examinations, as well as medical lasers for laser eye surgery: https://www.zeiss.com/meditec/int/home.html. The company is listed under the stock ticker AFX_X."
   ]
  },
  {
   "cell_type": "markdown",
   "metadata": {},
   "source": [
    "You can find the detailed Quandl API instructions here: https://docs.quandl.com/docs/time-series"
   ]
  },
  {
   "cell_type": "markdown",
   "metadata": {},
   "source": [
    "While there is a dedicated Python package for connecting to the Quandl API, we would prefer that you use the *requests* package, which can be easily downloaded using *pip* or *conda*. You can find the documentation for the package here: http://docs.python-requests.org/en/master/ "
   ]
  },
  {
   "cell_type": "markdown",
   "metadata": {},
   "source": [
    "Finally, apart from the *requests* package, you are encouraged to not use any third party Python packages, such as *pandas*, and instead focus on what's available in the Python Standard Library (the *collections* module might come in handy: https://pymotw.com/3/collections/ ).\n",
    "Also, since you won't have access to DataFrames, you are encouraged to use Python's native data structures - preferably dictionaries, though some questions can also be answered using lists.\n",
    "You can read more on these data structures here: https://docs.python.org/3/tutorial/datastructures.html"
   ]
  },
  {
   "cell_type": "markdown",
   "metadata": {},
   "source": [
    "Keep in mind that the JSON responses you will be getting from the API map almost one-to-one to Python's dictionaries. Unfortunately, they can be very nested, so make sure you read up on indexing dictionaries in the documentation provided above."
   ]
  },
  {
   "cell_type": "code",
   "execution_count": 2,
   "metadata": {},
   "outputs": [],
   "source": [
    "# First, import the relevant modules\n",
    "import requests as r\n",
    "import json\n",
    "import numpy as np\n",
    "import pandas as pd\n",
    "import matplotlib.pyplot as plt"
   ]
  },
  {
   "cell_type": "code",
   "execution_count": 3,
   "metadata": {},
   "outputs": [
    {
     "name": "stdout",
     "output_type": "stream",
     "text": [
      "{\"dataset\":{\"id\":36592406,\"dataset_code\":\"EON_X\",\"database_code\":\"FSE\",\"name\":\"E.on Se (EON_X)\",\"description\":\"Stock Prices for E.on Se (2019-10-28) from the Frankfurt Stock Exchange.\\u003cbr\\u003e\\u003cbr\\u003eTrading System: Xetra\\u003cbr\\u003e\\u003cbr\\u003eISIN: DE000ENAG999\",\"refreshed_at\":\"2019-11-11T22:20:41.476Z\",\"newest_available_date\":\"2019-11-11\",\"oldest_available_date\":\"2003-01-20\",\"column_names\":[\"Date\",\"Open\",\"High\",\"Low\",\"Close\",\"Change\",\"Traded Volume\",\"Turnover\",\"Last Price of the Day\",\"Daily Traded Units\",\"Daily Turnover\"],\"frequency\":\"daily\",\"type\":\"Time Series\",\"premium\":false,\"limit\":null,\"transform\":null,\"column_index\":null,\"start_date\":\"2019-11-08\",\"end_date\":\"2019-11-08\",\"data\":[[\"2019-11-08\",8.91,8.986,8.872,8.872,null,10621516.0,94493864.0,null,null,null]],\"collapse\":null,\"order\":null,\"database_id\":6129}}\n"
     ]
    }
   ],
   "source": [
    "# Now, call the Quandl API and pull out a small sample of the data (only one day) to get a glimpse\n",
    "# into the JSON structure that will be returned\n",
    "quandl_FSE_EON = 'https://www.quandl.com/api/v3/datasets/FSE/EON_X?start_date=2019-11-08&end_date=2019-11-08&api_key='\n",
    "\n",
    "sample = r.get(quandl_FSE_EON + API_KEY)\n",
    "\n",
    "print(sample.text)"
   ]
  },
  {
   "cell_type": "code",
   "execution_count": 4,
   "metadata": {},
   "outputs": [
    {
     "name": "stdout",
     "output_type": "stream",
     "text": [
      "{\n",
      "  \"dataset\": {\n",
      "    \"collapse\": null,\n",
      "    \"column_index\": null,\n",
      "    \"column_names\": [\n",
      "      \"Date\",\n",
      "      \"Open\",\n",
      "      \"High\",\n",
      "      \"Low\",\n",
      "      \"Close\",\n",
      "      \"Change\",\n",
      "      \"Traded Volume\",\n",
      "      \"Turnover\",\n",
      "      \"Last Price of the Day\",\n",
      "      \"Daily Traded Units\",\n",
      "      \"Daily Turnover\"\n",
      "    ],\n",
      "    \"data\": [\n",
      "      [\n",
      "        \"2019-11-08\",\n",
      "        8.91,\n",
      "        8.986,\n",
      "        8.872,\n",
      "        8.872,\n",
      "        null,\n",
      "        10621516.0,\n",
      "        94493864.0,\n",
      "        null,\n",
      "        null,\n",
      "        null\n",
      "      ]\n",
      "    ],\n",
      "    \"database_code\": \"FSE\",\n",
      "    \"database_id\": 6129,\n",
      "    \"dataset_code\": \"EON_X\",\n",
      "    \"description\": \"Stock Prices for E.on Se (2019-10-28) from the Frankfurt Stock Exchange.<br><br>Trading System: Xetra<br><br>ISIN: DE000ENAG999\",\n",
      "    \"end_date\": \"2019-11-08\",\n",
      "    \"frequency\": \"daily\",\n",
      "    \"id\": 36592406,\n",
      "    \"limit\": null,\n",
      "    \"name\": \"E.on Se (EON_X)\",\n",
      "    \"newest_available_date\": \"2019-11-11\",\n",
      "    \"oldest_available_date\": \"2003-01-20\",\n",
      "    \"order\": null,\n",
      "    \"premium\": false,\n",
      "    \"refreshed_at\": \"2019-11-11T22:20:41.476Z\",\n",
      "    \"start_date\": \"2019-11-08\",\n",
      "    \"transform\": null,\n",
      "    \"type\": \"Time Series\"\n",
      "  }\n",
      "}\n"
     ]
    }
   ],
   "source": [
    "# Inspect the JSON structure of the object you created, and take note of how nested it is,\n",
    "# as well as the overall structure\n",
    "print(json.dumps(sample.json(), indent=2, sort_keys=True))"
   ]
  },
  {
   "cell_type": "markdown",
   "metadata": {},
   "source": [
    "These are your tasks for this mini project:\n",
    "\n",
    "1. Collect data from the Franfurt Stock Exchange, for the ticker AFX_X, for the whole year 2017 (keep in mind that the date format is YYYY-MM-DD).\n",
    "2. Convert the returned JSON object into a Python dictionary.\n",
    "3. Calculate what the highest and lowest opening prices were for the stock in this period.\n",
    "4. What was the largest change in any one day (based on High and Low price)?\n",
    "5. What was the largest change between any two days (based on Closing Price)?\n",
    "6. What was the average daily trading volume during this year?\n",
    "7. (Optional) What was the median trading volume during this year. (Note: you may need to implement your own function for calculating the median.)"
   ]
  },
  {
   "cell_type": "code",
   "execution_count": 5,
   "metadata": {},
   "outputs": [
    {
     "name": "stdout",
     "output_type": "stream",
     "text": [
      "{\"dataset\":{\"id\":10095370,\"dataset_code\":\"AFX_X\",\"database_code\":\"FSE\",\"name\":\"Carl Zeiss Meditec (AFX_X)\",\"description\":\"Stock Prices for Carl Zeiss Meditec (2019-10-28) from the Frankfurt Stock Exchange.\\u003cbr\\u003e\\u003cbr\\u003eTrading System: Xetra\\u003cbr\\u003e\\u003cbr\\u003eISIN: DE0005313704\",\"refreshed_at\":\"2019-11-11T22:20:41.213Z\",\"newest_available_date\":\"2019-11-11\",\"oldest_available_date\":\"2000-06-07\",\"column_names\":[\"Date\",\"Open\",\"High\",\"Low\",\"Close\",\"Change\",\"Traded Volume\",\"Turnover\",\"Last Price of the Day\",\"Daily Traded Units\",\"Daily Turnover\"],\"frequency\":\"daily\",\"type\":\"Time Series\",\"premium\":false,\"limit\":null,\"transform\":null,\"column_index\":null,\"start_date\":\"2017-01-01\",\"end_date\":\"2017-12-31\",\"data\":[[\"2017-12-29\",51.76,51.94,51.45,51.76,null,34640.0,1792304.0,null,null,null],[\"2017-12-28\",51.65,51.82,51.43,51.6,null,40660.0,2099024.0,null,null,null],[\"2017-12-27\",51.45,51.89,50.76,51.82,null,57452.0,2957018.0,null,null,null],[\"2017-12-22\",51.05,51.5,50.92,51.32,null,71165.0,3641949.0,null,null,null],[\"2017-12-21\",51.16,51.52,50.9,51.4,null,120649.0,6179433.0,null,null,null],[\"2017-12-20\",51.88,52.04,51.2,51.27,null,50587.0,2610258.0,null,null,null],[\"2017-12-19\",52.73,52.73,51.07,51.66,null,137313.0,7102361.0,null,null,null],[\"2017-12-18\",52.37,52.75,51.61,52.62,null,129733.0,6770499.0,null,null,null],[\"2017-12-15\",52.7,52.7,51.64,52.01,null,204080.0,10596319.0,null,null,null],[\"2017-12-14\",53.11,53.54,52.15,52.67,null,132981.0,7016953.0,null,null,null],[\"2017-12-13\",52.64,53.35,52.48,53.09,null,128434.0,6801159.0,null,null,null],[\"2017-12-12\",52.29,53.1,51.82,52.43,null,87911.0,4615924.0,null,null,null],[\"2017-12-11\",52.28,52.45,51.26,52.14,null,71817.0,3724193.0,null,null,null],[\"2017-12-08\",51.5,52.83,51.28,52.12,null,109157.0,5690648.0,null,null,null],[\"2017-12-07\",50.89,51.47,50.81,51.47,null,48123.0,2463848.0,null,null,null],[\"2017-12-06\",50.8,51.11,50.39,50.89,null,88730.0,4504075.0,null,null,null],[\"2017-12-05\",51.21,51.38,50.4,51.25,null,83023.0,4231971.0,null,null,null],[\"2017-12-04\",49.5,51.23,49.5,51.14,null,94385.0,4800027.0,null,null,null],[\"2017-12-01\",49.52,50.49,49.17,49.86,null,101733.0,5065932.0,null,null,null],[\"2017-11-30\",48.64,49.84,48.28,49.7,null,123019.0,6085171.0,null,null,null],[\"2017-11-29\",49.64,49.64,48.7,48.75,null,67342.0,3292223.0,null,null,null],[\"2017-11-28\",49.09,49.89,49.03,49.25,null,42669.0,2107358.0,null,null,null],[\"2017-11-27\",49.13,49.73,48.96,49.2,null,102180.0,5055762.0,null,null,null],[\"2017-11-24\",49.11,49.41,48.87,49.11,null,50350.0,2472842.0,null,null,null],[\"2017-11-23\",48.8,49.46,48.45,49.2,null,38834.0,1909352.0,null,null,null],[\"2017-11-22\",48.4,49.61,48.39,48.8,null,91142.0,4478093.0,null,null,null],[\"2017-11-21\",47.25,48.59,46.78,48.39,null,78502.0,3782098.0,null,null,null],[\"2017-11-20\",46.57,47.38,46.54,47.04,null,97252.0,4563515.0,null,null,null],[\"2017-11-17\",47.03,47.15,46.8,46.84,null,54107.0,2540820.0,null,null,null],[\"2017-11-16\",47.09,47.23,46.55,47.03,null,89373.0,4195732.0,null,null,null],[\"2017-11-15\",47.98,48.01,46.75,47.05,null,67593.0,3188321.0,null,null,null],[\"2017-11-14\",48.4,48.9,47.84,48.0,null,67672.0,3259979.0,null,null,null],[\"2017-11-13\",48.38,48.61,47.76,48.34,null,76286.0,3681337.0,null,null,null],[\"2017-11-10\",47.3,48.89,47.16,48.34,null,90245.0,4361552.0,null,null,null],[\"2017-11-09\",47.65,48.06,47.09,47.21,null,120268.0,5712034.0,null,null,null],[\"2017-11-08\",46.42,47.72,46.42,47.47,null,94195.0,4463935.0,null,null,null],[\"2017-11-07\",46.16,46.33,45.84,46.26,null,48152.0,2224221.0,null,null,null],[\"2017-11-06\",45.81,46.09,45.76,45.99,null,60716.0,2789220.0,null,null,null],[\"2017-11-03\",45.0,46.04,44.83,45.97,null,56911.0,2603498.0,null,null,null],[\"2017-11-02\",45.88,46.06,45.18,45.27,null,37958.0,1724840.0,null,null,null],[\"2017-11-01\",46.29,46.55,45.97,46.04,null,56319.0,2603859.0,null,null,null],[\"2017-10-30\",46.53,46.65,45.61,45.76,null,56245.0,2585397.0,null,null,null],[\"2017-10-27\",45.48,46.42,45.46,46.41,null,74472.0,3434087.0,null,null,null],[\"2017-10-26\",45.2,45.41,44.91,45.41,null,56319.0,2548078.0,null,null,null],[\"2017-10-25\",45.01,45.06,44.7,45.0,null,47730.0,2145697.0,null,null,null],[\"2017-10-24\",45.16,45.27,44.75,44.85,null,43042.0,1937616.0,null,null,null],[\"2017-10-23\",44.9,45.34,44.89,45.0,null,43375.0,1952918.0,null,null,null],[\"2017-10-20\",45.08,45.34,44.76,44.87,null,55707.0,2503853.0,null,null,null],[\"2017-10-19\",45.72,45.85,44.79,45.0,null,59991.0,2703085.0,null,null,null],[\"2017-10-18\",46.01,46.2,45.61,45.77,null,45263.0,2076951.0,null,null,null],[\"2017-10-17\",45.8,46.06,45.37,45.96,null,65837.0,3014080.0,null,null,null],[\"2017-10-16\",45.61,45.75,45.3,45.55,null,49246.0,2243129.0,null,null,null],[\"2017-10-13\",45.5,45.7,45.37,45.4,null,43362.0,1971801.0,null,null,null],[\"2017-10-12\",45.58,45.58,45.17,45.43,null,49180.0,2233481.0,null,null,null],[\"2017-10-11\",45.97,45.97,45.25,45.29,null,69455.0,3158321.0,null,null,null],[\"2017-10-10\",45.64,46.04,45.57,45.84,null,65860.0,3016658.0,null,null,null],[\"2017-10-09\",46.2,46.2,45.6,45.74,null,44059.0,2015453.0,null,null,null],[\"2017-10-06\",46.19,46.19,45.69,46.0,null,66760.0,3066198.0,null,null,null],[\"2017-10-05\",46.01,46.09,45.63,46.05,null,94804.0,4352002.0,null,null,null],[\"2017-10-04\",45.36,46.17,45.22,46.11,null,115706.0,5313199.0,null,null,null],[\"2017-10-02\",44.51,44.98,44.18,44.98,null,95313.0,4265024.0,null,null,null],[\"2017-09-29\",43.58,44.17,43.3,44.17,null,99821.0,4384796.0,null,null,null],[\"2017-09-28\",42.0,43.56,42.0,43.56,null,157234.0,6775569.0,null,null,null],[\"2017-09-27\",42.35,42.49,41.78,42.04,null,76600.0,3219861.0,null,null,null],[\"2017-09-26\",42.3,42.57,42.11,42.37,null,51321.0,2175381.0,null,null,null],[\"2017-09-25\",42.3,42.3,41.96,42.07,null,56224.0,2366453.0,null,null,null],[\"2017-09-22\",41.48,42.38,41.48,42.06,null,79955.0,3362517.0,null,null,null],[\"2017-09-21\",42.29,42.29,41.39,41.46,null,105194.0,4378409.0,null,null,null],[\"2017-09-20\",42.54,42.54,41.99,41.99,null,57838.0,2440557.0,null,null,null],[\"2017-09-19\",42.65,42.65,42.13,42.44,null,65546.0,2777065.0,null,null,null],[\"2017-09-18\",42.5,42.63,42.23,42.27,null,44037.0,1864954.0,null,null,null],[\"2017-09-15\",42.29,42.81,42.25,42.42,null,107144.0,4555791.0,null,null,null],[\"2017-09-14\",42.35,42.8,42.35,42.52,null,65157.0,2770696.0,null,null,null],[\"2017-09-13\",42.49,42.69,42.22,42.45,null,68801.0,2921240.0,null,null,null],[\"2017-09-12\",43.21,43.34,42.62,42.73,null,52828.0,2259924.0,null,null,null],[\"2017-09-11\",42.81,42.89,42.56,42.85,null,103273.0,4415614.0,null,null,null],[\"2017-09-08\",42.7,42.75,42.56,42.67,null,59881.0,2553977.0,null,null,null],[\"2017-09-07\",43.0,43.02,42.67,42.77,null,64320.0,2751388.0,null,null,null],[\"2017-09-06\",42.66,42.71,42.34,42.55,null,71006.0,3020229.0,null,null,null],[\"2017-09-05\",43.0,43.19,42.55,42.62,null,66351.0,2846115.0,null,null,null],[\"2017-09-04\",42.38,42.75,41.95,42.6,null,105288.0,4471634.0,null,null,null],[\"2017-09-01\",42.16,43.06,42.07,42.41,null,151474.0,6453558.0,null,null,null],[\"2017-08-31\",42.0,42.08,41.12,41.9,null,157888.0,6580200.0,null,null,null],[\"2017-08-30\",42.0,42.2,41.49,41.94,null,97804.0,4090262.0,null,null,null],[\"2017-08-29\",41.71,41.98,41.33,41.85,null,98156.0,4094452.0,null,null,null],[\"2017-08-28\",42.11,42.25,41.86,41.91,null,47130.0,1978704.0,null,null,null],[\"2017-08-25\",42.64,42.64,42.05,42.14,null,69734.0,2948016.0,null,null,null],[\"2017-08-24\",42.72,43.05,42.63,42.69,null,65213.0,2792319.0,null,null,null],[\"2017-08-23\",42.82,43.17,42.6,42.71,null,70269.0,3011578.0,null,null,null],[\"2017-08-22\",42.46,42.96,42.4,42.71,null,95376.0,4075646.0,null,null,null],[\"2017-08-21\",42.42,42.76,42.2,42.26,null,68812.0,2922972.0,null,null,null],[\"2017-08-18\",42.28,42.6,42.01,42.41,null,72886.0,3092377.0,null,null,null],[\"2017-08-17\",41.88,43.01,41.76,42.5,null,131361.0,5583704.0,null,null,null],[\"2017-08-16\",42.4,42.62,41.98,42.05,null,104676.0,4408312.0,null,null,null],[\"2017-08-15\",42.53,42.53,42.2,42.28,null,64334.0,2721852.0,null,null,null],[\"2017-08-14\",42.12,42.69,42.01,42.3,null,127682.0,5416963.0,null,null,null],[\"2017-08-11\",41.3,41.94,40.96,41.94,null,183412.0,7604144.0,null,null,null],[\"2017-08-10\",41.73,41.99,41.14,41.68,null,175161.0,7303562.0,null,null,null],[\"2017-08-09\",43.5,43.5,41.64,41.81,null,355857.0,15003956.0,null,null,null],[\"2017-08-08\",44.9,45.09,44.15,44.37,null,156168.0,6941408.0,null,null,null],[\"2017-08-07\",45.85,46.34,44.02,44.96,null,164543.0,7378816.0,null,null,null],[\"2017-08-04\",45.13,45.13,44.36,45.07,null,96202.0,4306911.0,null,null,null],[\"2017-08-03\",45.34,45.54,44.91,44.97,null,77854.0,3517146.0,null,null,null],[\"2017-08-02\",45.25,45.77,44.9,45.56,null,187468.0,8528548.0,null,null,null],[\"2017-08-01\",45.24,45.54,45.1,45.45,null,74975.0,3399891.0,null,null,null],[\"2017-07-31\",44.94,45.75,44.94,45.3,null,62672.0,2844210.0,null,null,null],[\"2017-07-28\",45.26,45.29,44.75,44.97,null,114006.0,5127247.0,null,null,null],[\"2017-07-27\",45.16,45.45,45.15,45.25,null,50557.0,2290284.0,null,null,null],[\"2017-07-26\",44.91,45.33,44.46,45.16,null,81970.0,3688510.0,null,null,null],[\"2017-07-25\",44.7,45.04,44.63,44.82,null,112224.0,5033312.0,null,null,null],[\"2017-07-24\",45.31,45.31,44.49,44.61,null,104282.0,4661866.0,null,null,null],[\"2017-07-21\",45.57,45.88,45.04,45.44,null,73422.0,3334695.0,null,null,null],[\"2017-07-20\",45.74,45.96,45.23,45.66,null,87399.0,3986488.0,null,null,null],[\"2017-07-19\",45.06,45.72,44.94,45.57,null,71971.0,3273001.0,null,null,null],[\"2017-07-18\",45.5,45.55,44.7,45.0,null,104003.0,4684627.0,null,null,null],[\"2017-07-17\",45.6,46.23,45.29,45.6,null,104995.0,4801806.0,null,null,null],[\"2017-07-14\",45.07,45.56,44.83,45.53,null,67375.0,3054060.0,null,null,null],[\"2017-07-13\",44.67,45.18,44.67,44.95,null,82745.0,3718928.0,null,null,null],[\"2017-07-12\",44.29,45.05,43.89,44.95,null,115705.0,5133971.0,null,null,null],[\"2017-07-11\",44.94,44.94,44.08,44.2,null,90538.0,4010457.0,null,null,null],[\"2017-07-10\",44.64,45.18,44.51,44.7,null,71868.0,3221218.0,null,null,null],[\"2017-07-07\",44.79,44.79,44.25,44.53,null,47999.0,2136578.0,null,null,null],[\"2017-07-06\",45.5,45.5,44.15,44.62,null,66116.0,2952605.0,null,null,null],[\"2017-07-05\",44.67,45.36,44.44,45.19,null,48706.0,2189436.0,null,null,null],[\"2017-07-04\",45.83,45.83,44.74,44.8,null,50549.0,2273551.0,null,null,null],[\"2017-07-03\",45.29,45.83,45.06,45.75,null,71381.0,3251502.0,null,null,null],[\"2017-06-30\",45.01,45.74,45.0,45.44,null,136112.0,6187148.0,null,null,null],[\"2017-06-29\",45.73,45.81,45.11,45.2,null,134965.0,6132452.0,null,null,null],[\"2017-06-28\",46.68,46.68,45.41,45.68,null,117165.0,5381488.0,null,null,null],[\"2017-06-27\",47.23,47.33,46.39,46.83,null,82492.0,3866344.0,null,null,null],[\"2017-06-26\",46.95,47.63,46.91,47.21,null,73322.0,3465639.0,null,null,null],[\"2017-06-23\",47.29,47.4,46.79,46.99,null,80586.0,3792498.0,null,null,null],[\"2017-06-22\",47.03,47.4,46.75,47.29,null,56071.0,2640508.0,null,null,null],[\"2017-06-21\",47.46,47.48,46.53,46.99,null,89752.0,4206563.0,null,null,null],[\"2017-06-20\",46.48,47.43,46.27,47.37,null,108334.0,5109730.0,null,null,null],[\"2017-06-19\",46.9,46.9,46.25,46.64,null,70056.0,3260381.0,null,null,null],[\"2017-06-16\",45.66,46.8,45.66,46.63,null,202214.0,9411695.0,null,null,null],[\"2017-06-15\",46.34,46.34,45.21,45.67,null,101733.0,4635593.0,null,null,null],[\"2017-06-14\",46.52,46.86,46.05,46.33,null,83741.0,3881453.0,null,null,null],[\"2017-06-13\",46.5,46.51,46.03,46.32,null,107644.0,4981185.0,null,null,null],[\"2017-06-12\",47.31,47.43,45.89,46.31,null,112942.0,5238390.0,null,null,null],[\"2017-06-09\",46.77,47.44,46.55,47.44,null,99674.0,4702170.0,null,null,null],[\"2017-06-08\",47.8,47.8,46.27,46.27,null,1945.0,90599.0,null,null,null],[\"2017-06-07\",47.01,47.43,47.01,47.43,null,1081.0,51021.0,null,null,null],[\"2017-06-06\",47.12,47.45,46.21,47.43,null,686.0,32083.0,null,null,null],[\"2017-06-02\",46.8,46.99,46.72,46.99,null,290.0,13584.0,null,null,null],[\"2017-06-01\",46.12,46.52,45.89,46.52,null,106513.0,4930686.0,null,null,null],[\"2017-05-31\",45.22,46.26,45.22,45.86,null,522.0,24044.0,null,null,null],[\"2017-05-30\",45.05,46.02,45.05,46.02,null,587.0,26792.0,null,null,null],[\"2017-05-29\",45.61,45.61,45.24,45.32,null,112.0,5089.0,null,null,null],[\"2017-05-26\",44.8,45.36,44.71,45.3,null,74453.0,3360707.0,null,null,null],[\"2017-05-25\",44.8,44.87,44.29,44.78,null,49970.0,2231857.0,null,null,null],[\"2017-05-24\",43.92,44.67,43.92,44.53,null,111923.0,4971343.0,null,null,null],[\"2017-05-23\",43.67,44.13,43.55,43.9,null,38308.0,1681904.0,null,null,null],[\"2017-05-22\",44.16,44.22,43.44,43.84,null,70856.0,3103013.0,null,null,null],[\"2017-05-19\",43.74,44.12,43.74,44.12,null,45.0,1980.0,null,null,null],[\"2017-05-18\",44.0,44.3,43.29,43.98,null,166160.0,7277314.0,null,null,null],[\"2017-05-17\",45.06,45.34,44.01,44.19,null,149515.0,6664744.0,null,null,null],[\"2017-05-16\",45.15,45.36,44.56,45.31,null,101476.0,4567885.0,null,null,null],[\"2017-05-15\",45.09,45.78,44.31,45.14,null,193702.0,8734286.0,null,null,null],[\"2017-05-12\",45.18,45.18,44.16,44.99,null,159495.0,7113519.0,null,null,null],[\"2017-05-11\",43.4,46.06,43.25,45.0,null,189125.0,8496322.0,null,null,null],[\"2017-05-10\",43.5,43.6,42.53,43.28,null,91858.0,3958630.0,null,null,null],[\"2017-05-09\",41.83,43.55,41.82,43.3,null,151439.0,6538516.0,null,null,null],[\"2017-05-08\",43.0,43.0,42.04,42.24,null,97456.0,4128048.0,null,null,null],[\"2017-05-05\",42.52,42.91,42.38,42.75,null,78512.0,3353971.0,null,null,null],[\"2017-05-04\",41.86,42.5,41.71,42.5,null,82058.0,3465505.0,null,null,null],[\"2017-05-03\",42.2,42.29,41.78,41.9,null,65266.0,2738394.0,null,null,null],[\"2017-05-02\",41.89,42.23,41.76,42.15,null,86559.0,3636583.0,null,null,null],[\"2017-05-01\",null,42.245,41.655,41.72,-0.44,86348.0,3606589.0,null,null,null],[\"2017-04-28\",42.17,42.25,41.66,41.72,null,86348.0,3606589.0,null,null,null],[\"2017-04-27\",41.51,42.24,41.51,42.16,null,151683.0,6380639.0,null,null,null],[\"2017-04-26\",41.88,41.94,41.4,41.5,null,65847.0,2743109.0,null,null,null],[\"2017-04-25\",41.93,42.18,41.66,41.89,null,85973.0,3604204.0,null,null,null],[\"2017-04-24\",42.01,42.02,41.23,41.81,null,102084.0,4247032.0,null,null,null],[\"2017-04-21\",41.97,42.14,41.01,41.32,null,186784.0,7728103.0,null,null,null],[\"2017-04-20\",42.5,42.64,41.52,41.93,null,223621.0,9418192.0,null,null,null],[\"2017-04-19\",41.94,42.61,41.94,42.61,null,92722.0,3930856.0,null,null,null],[\"2017-04-18\",42.24,42.4,41.54,42.0,null,133057.0,5587565.0,null,null,null],[\"2017-04-17\",null,42.48,41.985,42.2,null,88416.0,3734717.0,null,null,null],[\"2017-04-14\",null,42.48,41.985,42.2,null,88416.0,3734717.0,null,null,null],[\"2017-04-13\",42.06,42.48,41.99,42.2,null,88416.0,3734717.0,null,null,null],[\"2017-04-12\",42.02,42.45,41.84,42.2,null,158278.0,6672547.0,null,null,null],[\"2017-04-11\",41.62,42.03,41.53,41.75,null,107817.0,4501109.0,null,null,null],[\"2017-04-10\",41.46,41.68,41.31,41.68,null,62297.0,2585922.0,null,null,null],[\"2017-04-07\",40.9,41.42,40.84,41.42,null,81255.0,3344628.0,null,null,null],[\"2017-04-06\",40.96,41.25,40.83,41.05,null,96794.0,3968681.0,null,null,null],[\"2017-04-05\",41.1,41.34,40.79,41.1,null,156005.0,6404780.0,null,null,null],[\"2017-04-04\",39.5,40.88,39.48,40.81,null,193156.0,7822665.0,null,null,null],[\"2017-04-03\",40.15,40.15,39.54,39.64,null,127973.0,5081376.0,null,null,null],[\"2017-03-31\",39.77,40.07,39.42,39.98,null,95382.0,3795061.0,null,null,null],[\"2017-03-30\",40.02,40.14,39.42,39.75,null,189201.0,7541354.0,null,null,null],[\"2017-03-29\",39.39,40.01,39.05,40.01,null,335406.0,13349426.0,null,null,null],[\"2017-03-28\",38.95,39.35,38.79,39.22,null,115075.0,4505494.0,null,null,null],[\"2017-03-27\",38.73,39.1,38.53,38.85,null,191515.0,7446952.0,null,null,null],[\"2017-03-24\",38.94,39.02,38.6,38.94,null,210926.0,8205507.0,null,null,null],[\"2017-03-23\",39.01,39.25,38.63,38.96,null,169971.0,6621807.0,null,null,null],[\"2017-03-22\",38.25,39.02,37.53,38.94,null,670349.0,25910543.0,null,null,null],[\"2017-03-21\",41.8,41.83,40.97,40.98,null,56906.0,2349965.0,null,null,null],[\"2017-03-20\",41.26,42.17,41.26,41.97,null,97572.0,4074891.0,null,null,null],[\"2017-03-17\",41.47,41.59,41.16,41.34,null,90109.0,3734232.0,null,null,null],[\"2017-03-16\",41.4,41.57,41.09,41.46,null,55799.0,2308423.0,null,null,null],[\"2017-03-15\",41.4,41.5,40.91,41.25,null,60324.0,2488650.0,null,null,null],[\"2017-03-14\",41.2,41.5,41.2,41.3,null,60420.0,2498025.0,null,null,null],[\"2017-03-13\",41.4,41.46,41.08,41.3,null,44803.0,1850251.0,null,null,null],[\"2017-03-10\",41.53,41.53,41.16,41.4,null,38518.0,1592270.0,null,null,null],[\"2017-03-09\",41.61,41.61,41.16,41.4,null,43988.0,1819182.0,null,null,null],[\"2017-03-08\",41.13,41.71,40.95,41.68,null,45111.0,1870935.0,null,null,null],[\"2017-03-07\",41.5,41.8,41.25,41.42,null,61925.0,2569608.0,null,null,null],[\"2017-03-06\",41.25,41.4,40.81,41.4,null,46510.0,1916799.0,null,null,null],[\"2017-03-03\",41.12,41.22,40.84,41.18,null,40800.0,1675587.0,null,null,null],[\"2017-03-02\",41.38,41.39,40.76,41.17,null,49863.0,2048153.0,null,null,null],[\"2017-03-01\",41.19,41.57,40.9,41.2,null,86753.0,3569796.0,null,null,null],[\"2017-02-28\",40.38,40.95,40.38,40.84,null,67440.0,2747011.0,null,null,null],[\"2017-02-27\",39.75,40.64,39.75,40.39,null,62655.0,2520260.0,null,null,null],[\"2017-02-24\",39.77,40.14,38.91,39.74,null,101294.0,4015150.0,null,null,null],[\"2017-02-23\",39.72,39.98,39.38,39.79,null,81945.0,3260642.0,null,null,null],[\"2017-02-22\",39.6,39.75,39.27,39.7,null,77619.0,3066894.0,null,null,null],[\"2017-02-21\",38.85,39.57,38.85,39.45,null,46070.0,1808350.0,null,null,null],[\"2017-02-20\",39.25,39.25,38.81,38.98,null,37014.0,1444138.0,null,null,null],[\"2017-02-17\",38.8,39.03,38.48,39.02,null,60583.0,2352961.0,null,null,null],[\"2017-02-16\",38.8,39.2,38.25,38.71,null,84682.0,3282322.0,null,null,null],[\"2017-02-15\",38.5,38.93,38.4,38.72,null,77420.0,2996861.0,null,null,null],[\"2017-02-14\",38.81,38.86,38.0,38.37,null,82601.0,3163898.0,null,null,null],[\"2017-02-13\",37.37,39.36,37.35,38.53,null,177171.0,6804028.0,null,null,null],[\"2017-02-10\",36.65,37.5,36.57,37.06,null,115843.0,4291017.0,null,null,null],[\"2017-02-09\",36.2,36.25,35.77,36.25,null,67781.0,2445428.0,null,null,null],[\"2017-02-08\",35.98,36.14,35.84,36.05,null,39731.0,1431205.0,null,null,null],[\"2017-02-07\",35.56,36.05,35.36,35.89,null,67410.0,2410818.0,null,null,null],[\"2017-02-06\",36.06,36.15,35.6,35.64,null,41911.0,1496794.0,null,null,null],[\"2017-02-03\",36.02,36.2,35.73,36.1,null,40705.0,1464712.0,null,null,null],[\"2017-02-02\",35.95,36.2,35.7,36.07,null,54279.0,1953176.0,null,null,null],[\"2017-02-01\",34.75,36.0,34.75,35.94,null,85137.0,3038172.0,null,null,null],[\"2017-01-31\",35.24,35.24,34.56,34.56,null,63371.0,2199583.0,null,null,null],[\"2017-01-30\",35.38,35.59,34.95,35.15,null,69603.0,2457762.0,null,null,null],[\"2017-01-27\",34.83,35.43,34.81,35.3,null,69657.0,2444913.0,null,null,null],[\"2017-01-26\",35.07,35.58,34.8,34.89,null,64103.0,2249375.0,null,null,null],[\"2017-01-25\",34.42,34.86,34.03,34.83,null,56240.0,1947147.0,null,null,null],[\"2017-01-24\",34.0,34.35,33.85,34.22,null,48797.0,1666086.0,null,null,null],[\"2017-01-23\",34.04,34.12,33.62,34.06,null,55333.0,1877957.0,null,null,null],[\"2017-01-20\",34.54,34.59,34.05,34.17,null,80246.0,2743474.0,null,null,null],[\"2017-01-19\",35.04,35.04,34.42,34.5,null,73105.0,2526731.0,null,null,null],[\"2017-01-18\",35.04,35.51,34.8,34.9,null,65931.0,2311608.0,null,null,null],[\"2017-01-17\",35.06,35.19,34.79,34.99,null,39195.0,1369857.0,null,null,null],[\"2017-01-16\",34.85,35.24,34.56,35.07,null,47879.0,1678679.0,null,null,null],[\"2017-01-13\",34.98,34.98,34.6,34.85,null,59367.0,2065534.0,null,null,null],[\"2017-01-12\",35.38,35.38,34.31,34.9,null,163860.0,5703427.0,null,null,null],[\"2017-01-11\",34.95,36.0,34.84,35.42,null,123530.0,4369079.0,null,null,null],[\"2017-01-10\",34.8,34.98,34.46,34.91,null,43976.0,1528055.0,null,null,null],[\"2017-01-09\",35.29,35.35,34.43,34.67,null,62225.0,2157182.0,null,null,null],[\"2017-01-06\",34.91,35.21,34.91,35.04,null,27507.0,964046.0,null,null,null],[\"2017-01-05\",35.02,35.2,34.73,35.06,null,48412.0,1692326.0,null,null,null],[\"2017-01-04\",35.48,35.51,34.75,35.19,null,54408.0,1906810.0,null,null,null],[\"2017-01-03\",35.9,35.93,35.34,35.48,null,70618.0,2515473.0,null,null,null],[\"2017-01-02\",34.99,35.94,34.99,35.8,null,44700.0,1590561.0,null,null,null]],\"collapse\":null,\"order\":null,\"database_id\":6129}}\n"
     ]
    }
   ],
   "source": [
    "# Problem 1: Collect data from the Franfurt Stock Exchange, for the ticker AFX_X, for the whole year 2017\n",
    "# (keep in mind that the date format is YYYY-MM-DD)\n",
    "\n",
    "quandl_FSE_AFX = 'https://www.quandl.com/api/v3/datasets/FSE/AFX_X?start_date=2017-01-01&end_date=2017-12-31&api_key='\n",
    "\n",
    "# Request the Quandl data through the API\n",
    "fse_afx_2017 = r.get(quandl_FSE_AFX + API_KEY)\n",
    "\n",
    "print(fse_afx_2017.text)"
   ]
  },
  {
   "cell_type": "code",
   "execution_count": 6,
   "metadata": {},
   "outputs": [],
   "source": [
    "# Problem 2: Convert the returned JSON object into a Python dictionary.\n",
    "\n",
    "dict_fse_2017 = fse_afx_2017.json()"
   ]
  },
  {
   "cell_type": "code",
   "execution_count": 7,
   "metadata": {},
   "outputs": [
    {
     "name": "stdout",
     "output_type": "stream",
     "text": [
      "Highest opening price: $53.11 \n",
      "Lowest opening price: $34.00\n"
     ]
    }
   ],
   "source": [
    "# Problem 3: Calculate what the highest and lowest opening prices were for the stock in this period.\n",
    "\n",
    "df_fse_2017 = pd.DataFrame(dict_fse_2017['dataset']['data'], \\\n",
    "                          columns = dict_fse_2017['dataset']['column_names']).set_index('Date')\n",
    "\n",
    "df_fse_2017_max = df_fse_2017.Open.max()\n",
    "df_fse_2017_min = df_fse_2017.Open.min()\n",
    "\n",
    "print(f'Highest opening price: ${df_fse_2017_max:.2f} \\n' +\\\n",
    "      f'Lowest opening price: ${df_fse_2017_min:.2f}')"
   ]
  },
  {
   "cell_type": "code",
   "execution_count": 8,
   "metadata": {},
   "outputs": [
    {
     "name": "stdout",
     "output_type": "stream",
     "text": [
      "Largest change in any one day: $2.81\n"
     ]
    }
   ],
   "source": [
    "# Problem 4: What was the largest change in any one day (based on High and Low price)?\n",
    "\n",
    "max_delta = max(df_fse_2017.High - df_fse_2017.Low)\n",
    "\n",
    "print(f'Largest change in any one day: ${max_delta:.2f}')"
   ]
  },
  {
   "cell_type": "code",
   "execution_count": 9,
   "metadata": {},
   "outputs": [
    {
     "name": "stdout",
     "output_type": "stream",
     "text": [
      "The largest change between any two days, based on closing price is: $3.15\n"
     ]
    }
   ],
   "source": [
    "# Problem 5: What was the largest change between any two days (based on Closing Price)?\n",
    "\n",
    "closing_prices = df_fse_2017.Close.reset_index()\n",
    "\n",
    "# create column with closing prices, lag of 1 & 2\n",
    "closing_prices['price_lag_1'] = closing_prices.Close.shift(periods = 1)\n",
    "closing_prices['price_lag_2'] = closing_prices.Close.shift(periods = 2)\n",
    "\n",
    "# Determine if the lag 1 & 2 closing price is one or two days away from the day's closing price\n",
    "closing_prices['date_lag_1'] = abs(pd.to_datetime(closing_prices.Date) - \\\n",
    "                                 pd.to_datetime(closing_prices.Date.shift(periods = 1))) == pd.Timedelta('1 day')\n",
    "closing_prices['date_lag_2'] = abs(pd.to_datetime(closing_prices.Date) - \\\n",
    "                                 pd.to_datetime(closing_prices.Date.shift(periods = 2))) == pd.Timedelta('2 day')\n",
    "\n",
    "# Determine the change in closing price between one or two days\n",
    "closing_prices['lag_1'] = np.where(closing_prices.date_lag_1 == True,\\\n",
    "                                  abs(closing_prices.price_lag_1 - closing_prices.Close), np.nan)\n",
    "closing_prices['lag_2'] = np.where(closing_prices.date_lag_2 == True,\\\n",
    "                                  abs(closing_prices.price_lag_2 - closing_prices.Close), np.nan)\n",
    "max_change = max(closing_prices.lag_1.max(), closing_prices.lag_2.max())\n",
    "\n",
    "print(f'The largest change between any two days, based on closing price is: ${max_change:.2f}')"
   ]
  },
  {
   "cell_type": "code",
   "execution_count": 10,
   "metadata": {},
   "outputs": [
    {
     "name": "stdout",
     "output_type": "stream",
     "text": [
      "Average daily trading volume during 2017: 89124.34\n"
     ]
    }
   ],
   "source": [
    "# Problem 6: What was the average daily trading volume during this year?\n",
    "\n",
    "avg_daily_trade = round(df_fse_2017['Traded Volume'].mean(),2)\n",
    "\n",
    "print(f'Average daily trading volume during 2017: {avg_daily_trade:.2f}')"
   ]
  },
  {
   "cell_type": "code",
   "execution_count": 11,
   "metadata": {},
   "outputs": [
    {
     "name": "stdout",
     "output_type": "stream",
     "text": [
      "The median trading volume during 2017 is 76286.0\n"
     ]
    },
    {
     "data": {
      "image/png": "[encoded data removed]",
      "text/plain": [
       "<Figure size 432x288 with 1 Axes>"
      ]
     },
     "metadata": {
      "needs_background": "light"
     },
     "output_type": "display_data"
    }
   ],
   "source": [
    "# Problem 7: (Optional) What was the median trading volume during this year.\n",
    "# (Note: you may need to implement your own function for calculating the median.)\n",
    "\n",
    "# Create sorted DataFrame to be plotted for the Traded Volume in 2017\n",
    "df_sorted_vol = df_fse_2017['Traded Volume'].reset_index().sort_values(['Traded Volume'])['Traded Volume']\n",
    "\n",
    "# Create boxplot for Traded Volume\n",
    "fig, ax = plt.subplots()\n",
    "\n",
    "# Customize title and axes\n",
    "ax.set_title('Boxplot of Traded Volume of 2017')\n",
    "ax.axes.get_yaxis().set_visible(False)\n",
    "ax.set_xlabel('Traded Volume')\n",
    "\n",
    "# Plot Traded Volume boxplot, only showing between 25th and 75th percentile for ease of viewing\n",
    "trade_plot = ax.boxplot(df_sorted_vol, showfliers = False, notch = True, vert = False)\n",
    "\n",
    "# Get median trading volume for 2017\n",
    "median_2017 = trade_plot['medians'][0].get_xdata()[0]\n",
    "print(f'The median trading volume during 2017 is {median_2017}')"
   ]
  }
 ],
 "metadata": {
  "kernelspec": {
   "display_name": "Python 3",
   "language": "python",
   "name": "python3"
  },
  "language_info": {
   "codemirror_mode": {
    "name": "ipython",
    "version": 3
   },
   "file_extension": ".py",
   "mimetype": "text/x-python",
   "name": "python",
   "nbconvert_exporter": "python",
   "pygments_lexer": "ipython3",
   "version": "3.7.4"
  }
 },
 "nbformat": 4,
 "nbformat_minor": 2
}
